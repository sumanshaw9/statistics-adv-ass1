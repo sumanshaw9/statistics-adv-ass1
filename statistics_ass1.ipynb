{
  "nbformat": 4,
  "nbformat_minor": 0,
  "metadata": {
    "colab": {
      "provenance": [],
      "authorship_tag": "ABX9TyP0r/w5wn9mEcWRQ0S0E3N2"
    },
    "kernelspec": {
      "name": "python3",
      "display_name": "Python 3"
    },
    "language_info": {
      "name": "python"
    }
  },
  "cells": [
    {
      "cell_type": "markdown",
      "source": [
        "**1. Explain the properties of the F-distribution.**"
      ],
      "metadata": {
        "id": "Ep8OKV0Q9Kav"
      }
    },
    {
      "cell_type": "markdown",
      "source": [
        "The F-distribution is a continuous probability distribution that arises frequently in statistics, particularly in the analysis of variance (ANOVA) and hypothesis testing involving variances. Below are its key properties:\n",
        "\n",
        "1. Definition -\n",
        "- The F-distribution is the distribution of the ratio of two independent chi-squared distributed random variables divided by their respective degrees of freedom. It is commonly used to compare variances.\n",
        "\n",
        "2. Key Properties\n",
        "- a. Shape and Parameters - The shape of the F-distribution depends on two parameters:\n",
        "Degrees of Freedom (df₁): Numerator degrees of freedom.\n",
        "Degrees of Freedom (df₂): Denominator degrees of freedom.\n",
        "The distribution is positively skewed but becomes more symmetric as the degrees of freedom increase.\n",
        "\n",
        "- b. Range - The F-distribution is only defined for positive values.\n",
        "Its range is [0, ∞).\n",
        "\n",
        "- c. Mean - The mean of the F-distribution is defined as:\n",
        " - $\\text{Mean} = \\frac{\\text{df}_2}{\\text{df}_2 - 2}, $\n",
        " for ${\\text{df}_2} > 2$\n",
        "\n",
        " - Undefined if $df_2 \\leq 2. $\n",
        "-d. Variance\n",
        "  - The variance is:\n",
        "  $$Variance = \\frac{2 \\cdot df_2^2 \\cdot (df_1 + df_2 - 2)}{df_1 \\cdot (df_2 - 2)^2 \\cdot (df_2 - 4)}, \\quad \\text{for} \\quad df_2 > 4$$\n",
        "   - Undefined if $df_2 \\leq 4.$\n",
        "\n",
        " e. Mode\n",
        "The mode (most frequent value) is:\n",
        "$\\text{Mode} = \\frac{(\\text{df}_1 - 2)}{\\text{df}_1}{\\cdot}\\frac {\\text{df}_2}{(\\text{df}_2 + 2)}, $\n",
        "for ${\\text{df}_1} > 2$\n",
        "\n",
        "3. Characteristics\n",
        "- The F-distribution is not symmetric; it is positively skewed.\n",
        "As the numerator and denominator degrees of freedom increase, the F-distribution approaches a normal distribution.\n",
        "The total area under the F-distribution curve is equal to 1.\n",
        "4. Applications\n",
        "Hypothesis Testing: Used in ANOVA to test the equality of group variances.\n",
        "Model Comparison: Helps compare the fits of two nested regression models.\n",
        "Test for Equality of Variances: The F-test is used to compare the variances of two populations.\n",
        "\n",
        "5. Relationship with Other Distributions\n",
        "- The F-distribution is derived from the ratio of two chi-squared distributions.\n",
        "\n",
        "- $If ( X_1 \\sim \\chi^2(df_1) ) and ( X_2 \\sim \\chi^2(df_2) ),$ then:\n",
        "\n",
        "    $F = \\frac{\\left(X_1 / df_1\\right)}{\\left(X_2 / df_2\\right)} \\sim F(df_1, df_2)$\n",
        "\n",
        "- The square of a t-distributed variable with ${\\text{df}_1}$degrees of freedom is an F-distributed variable with parameters$(1,{\\text{df}_1)}$"
      ],
      "metadata": {
        "id": "rzQMhcuH9T9i"
      }
    },
    {
      "cell_type": "markdown",
      "source": [
        "**2. In which types of statistical tests is the F-distribution used, and why is it appropriate for these tests?**"
      ],
      "metadata": {
        "id": "8os3j2K29IWc"
      }
    },
    {
      "cell_type": "markdown",
      "source": [
        "The F-distribution is used in statistical tests where variances are compared, making it a key tool in several important procedures. Here's an explanation of the types of tests and why the F-distribution is appropriate for them:\n",
        "\n",
        "1. ***Analysis of Variance (ANOVA)***\n",
        "- Purpose: To compare the means of three or more groups to determine if at least one group mean is significantly different from the others.\n",
        "- Why F-Distribution is Used:\n",
        " - ANOVA is based on the ratio of between-group variance to within-group variance.\n",
        " - The F-statistic follows an F-distribution under the null hypothesis because it is a ratio of two scaled chi-squared variables (variances).\n",
        " - Assumptions like normality and homogeneity of variances support the use of the F-distribution.\n",
        "2. ***Regression Analysis***\n",
        "- Purpose: To test the overall significance of a regression model or to compare multiple regression models.\n",
        "- Why F-Distribution is Used:\n",
        " - The F-test evaluates whether the variance explained by the model (due to the predictors) is significantly greater than the unexplained variance (residual error).\n",
        " - The test statistic for this is derived as a ratio of mean squares, which follows an F-distribution.\n",
        "3. ***Test of Equality of Variances***\n",
        "- Purpose: To test if two population variances are equal (e.g., in Levene's test or Bartlett's test).\n",
        "- Why F-Distribution is Used:\n",
        " - The test compares the ratio of the two sample variances. Under the null hypothesis (equal variances), this ratio follows an F-distribution.\n",
        "4. ***Comparing Nested Models***\n",
        "- Purpose: To compare two models where one is a special case of the other (nested models) to see if adding more parameters significantly improves the fit.\n",
        "- Why F-Distribution is Used:\n",
        " - The difference in residual sums of squares between the two models is divided by their respective degrees of freedom, forming an F-statistic.\n",
        " - This statistic follows an F-distribution under the null hypothesis.\n",
        "5. ***MANOVA (Multivariate Analysis of Variance)***\n",
        "- Purpose: To compare means of multiple dependent variables across groups.\n",
        "- Why F-Distribution is Used:\n",
        " - MANOVA extends ANOVA to multiple dependent variables, and the test statistic is based on ratios of variances, which follow an F-distribution.\n",
        "\n",
        "**Why the F-Distribution is Appropriate:**\n",
        "1. Ratio of Variances: The F-distribution arises naturally when comparing the ratio of two independent sample variances, which is the basis for many tests.\n",
        "2. Degrees of Freedom: The shape of the F-distribution is defined by the degrees of freedom of the numerator and denominator variances, making it flexible for various comparisons.\n",
        "3. Right-Skewed Nature: Since variances cannot be negative, the F-distribution is skewed to the right, reflecting the characteristics of variance ratios."
      ],
      "metadata": {
        "id": "OX8X4Kqf9QU_"
      }
    },
    {
      "cell_type": "markdown",
      "source": [
        "**3. What are the key assumptions required for conducting an F-test to compare the variances of two populations?**"
      ],
      "metadata": {
        "id": "y1uMS0MJ_LNe"
      }
    },
    {
      "cell_type": "markdown",
      "source": [
        "To conduct an F-test for comparing the variances of two populations, several key assumptions must be met. These assumptions ensure that the results of the test are valid and reliable:\n",
        "\n",
        "1. **Both populations are normally distributed**\n",
        "The F-test assumes that the data in each population comes from a normal distribution.\n",
        "This is critical because the F-statistic is derived under the assumption of normality. Deviations from normality can lead to incorrect conclusions.\n",
        "How to check:\n",
        "Perform a normality test (e.g., Shapiro-Wilk test, Anderson-Darling test) or visualize the data using histograms or Q-Q plots.\n",
        "2.**The samples are independent**\n",
        "The samples taken from the two populations must be independent of each other.\n",
        "Independence ensures that the variances being compared are not influenced by any relationship or dependency between the samples.\n",
        "3.**The data is continuous**\n",
        "The F-test assumes that the data is continuous, meaning it is measured on an interval or ratio scale.\n",
        "Examples include measurements like height, weight, or temperature.\n",
        "4.**Variances being compared are from random samples**\n",
        "The data should be collected using a random sampling process to avoid bias.\n",
        "Random sampling ensures that the samples are representative of their respective populations.\n",
        "5. **The numerator and denominator degrees of freedom are fixed**\n",
        " - The degrees of freedom for the numerator and denominator, which correspond to the sample sizes of the two groups, should be properly accounted for.\n",
        "**Violations of Assumptions:**\n",
        " - Non-normality: If the normality assumption is violated, consider using a non-parametric test like the Levene’s test or Brown-Forsythe test, which are more robust to non-normality.\n",
        " - Dependent samples: If the samples are not independent, consider paired-sample techniques or adjust the analysis accordingly.\n",
        "\n",
        "\n",
        "**Summary Table of Assumptions:**\n",
        "\n",
        "| Assumption          | Purpose                                  | Check with                    |\n",
        "|---------------------|------------------------------------------|-------------------------------|\n",
        "| Normal distribution | Validates the derivation of F-statistic | Normality tests or visualization |\n",
        "| Independence of samples        | Ensures valid comparison between groups     | Study design verification      |\n",
        "| Continuous data      | Validates F-distribution application   | Data type assessment           |\n",
        "| Random sampling      | Avoids bias in variance comparison     | Sampling methodology check     |\n"
      ],
      "metadata": {
        "id": "U24E3gvi_RXm"
      }
    },
    {
      "cell_type": "markdown",
      "source": [
        "**4. What is the purpose of ANOVA, and how does it differ from a t-test?**"
      ],
      "metadata": {
        "id": "ZgqmLkDoBlcU"
      }
    },
    {
      "cell_type": "markdown",
      "source": [],
      "metadata": {
        "id": "4-nW-B46BueA"
      }
    }
  ]
}